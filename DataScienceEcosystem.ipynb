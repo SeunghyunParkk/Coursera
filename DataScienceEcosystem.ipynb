{
 "cells": [
  {
   "cell_type": "markdown",
   "id": "7c037a87-4041-4f76-a612-af3dd974297c",
   "metadata": {},
   "source": [
    "# Data Science Tools and Ecosystem"
   ]
  },
  {
   "cell_type": "markdown",
   "id": "d03107e4-3634-4671-891b-0bf32c57a0d1",
   "metadata": {},
   "source": [
    "In this notebook, Data Science Tools and Ecosystem are summarized."
   ]
  },
  {
   "cell_type": "markdown",
   "id": "77f8c2db-bd59-4b0b-b81c-d0afdc9ce42e",
   "metadata": {},
   "source": [
    "**Objectives:**\n",
    "\n",
    "* List of popular languages for Data Science.\n",
    "* List of commonly used libraries for Data Science.\n",
    "* List of popular Data Science Tools.\n"
   ]
  },
  {
   "cell_type": "markdown",
   "id": "c40b554d-ed44-49a8-bae1-876498fe6205",
   "metadata": {},
   "source": [
    "Some of the popular languages that Data Scientists use are:\n",
    "1. python\n",
    "2. R\n",
    "3. C++"
   ]
  },
  {
   "cell_type": "markdown",
   "id": "d39b20b4-671f-4623-b863-fa8fe4ca35ef",
   "metadata": {},
   "source": [
    "Some of the commonly used libraries used by Data Scientists include:\n",
    "1. pandas\n",
    "2. numpy\n",
    "3. scikit learn"
   ]
  },
  {
   "cell_type": "markdown",
   "id": "feb16e14-6f0b-4f81-bb87-f69ff1a4e590",
   "metadata": {},
   "source": [
    "| Data Science Tools |\n",
    "|--------------------|\n",
    "| Jupyter Notebooks  |\n",
    "| Rstudio            |\n",
    "| Jupyterlab |"
   ]
  },
  {
   "cell_type": "markdown",
   "id": "fe21811e-87a2-4e4d-b025-fa4c4782667c",
   "metadata": {},
   "source": [
    "### Below are a few examples of evaluating arithmetic expressions in Python."
   ]
  },
  {
   "cell_type": "code",
   "execution_count": 2,
   "id": "25234694-c38c-4dbf-94e2-093532bee1bf",
   "metadata": {
    "tags": []
   },
   "outputs": [
    {
     "data": {
      "text/plain": [
       "17"
      ]
     },
     "execution_count": 2,
     "metadata": {},
     "output_type": "execute_result"
    }
   ],
   "source": [
    "# This is a simple arithmetic expression to multiply then add integers.\n",
    "(3*4)+5"
   ]
  },
  {
   "cell_type": "code",
   "execution_count": 3,
   "id": "b96ee6e2-364a-4655-9f8d-a1838bd85045",
   "metadata": {
    "tags": []
   },
   "outputs": [
    {
     "data": {
      "text/plain": [
       "3.3333333333333335"
      ]
     },
     "execution_count": 3,
     "metadata": {},
     "output_type": "execute_result"
    }
   ],
   "source": [
    "# This will convert 200 minutes to hours by dividing by 60.\n",
    "200/60"
   ]
  },
  {
   "cell_type": "markdown",
   "id": "50f4336c-30ed-4934-94ae-3c2c3cccbc7c",
   "metadata": {},
   "source": []
  },
  {
   "cell_type": "markdown",
   "id": "d8b41e5f-b25b-4e99-93eb-a0e278c892ee",
   "metadata": {},
   "source": [
    "## Author\n",
    "Seunghyun Park"
   ]
  }
 ],
 "metadata": {
  "kernelspec": {
   "display_name": "Python",
   "language": "python",
   "name": "conda-env-python-py"
  },
  "language_info": {
   "codemirror_mode": {
    "name": "ipython",
    "version": 3
   },
   "file_extension": ".py",
   "mimetype": "text/x-python",
   "name": "python",
   "nbconvert_exporter": "python",
   "pygments_lexer": "ipython3",
   "version": "3.7.12"
  }
 },
 "nbformat": 4,
 "nbformat_minor": 5
}
